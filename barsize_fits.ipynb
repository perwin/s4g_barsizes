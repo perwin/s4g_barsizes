{
 "cells": [
  {
   "cell_type": "markdown",
   "metadata": {},
   "source": [
    "## Setup"
   ]
  },
  {
   "cell_type": "markdown",
   "metadata": {},
   "source": [
    "### Initial Imports, Path and Global Variable Definitions"
   ]
  },
  {
   "cell_type": "code",
   "execution_count": 1,
   "metadata": {},
   "outputs": [],
   "source": [
    "import sys, datetime\n",
    "import numpy as np\n",
    "from scipy.optimize import curve_fit\n",
    "import astrostat\n",
    "\n",
    "projDir = \"/Users/erwin/Documents/Working/Projects/Project_BarSizes/\"\n",
    "sys.path.append(\"/Users/erwin/Documents/Working/Projects/Project_BarSizes\")\n",
    "from datasets import s4gdata\n",
    "import fitting_barsizes\n",
    "nDisksTotal = len(s4gdata.name)\n",
    "\n",
    "fitDict = {}"
   ]
  },
  {
   "cell_type": "markdown",
   "metadata": {},
   "source": [
    "#### Setup for plotting"
   ]
  },
  {
   "cell_type": "code",
   "execution_count": 2,
   "metadata": {},
   "outputs": [
    {
     "name": "stdout",
     "output_type": "stream",
     "text": [
      "Populating the interactive namespace from numpy and matplotlib\n"
     ]
    },
    {
     "name": "stderr",
     "output_type": "stream",
     "text": [
      "/Library/Frameworks/Python.framework/Versions/3.7/lib/python3.7/site-packages/IPython/core/magics/pylab.py:160: UserWarning: pylab import has clobbered these variables: ['mean']\n",
      "`%matplotlib` prevents importing * from pylab and numpy\n",
      "  \"\\n`%matplotlib` prevents importing * from pylab and numpy\"\n"
     ]
    }
   ],
   "source": [
    "%pylab inline\n",
    "\n",
    "matplotlib.rcParams['figure.figsize'] = (8,6)\n",
    "matplotlib.rcParams['xtick.labelsize'] = 16\n",
    "matplotlib.rcParams['ytick.labelsize'] = 16\n",
    "matplotlib.rcParams['axes.labelsize'] = 20\n",
    "\n",
    "# kludge to fix matplotlib's font_manager bug which mistakenly ID's \"Times New Roman Bold.ttf\" as\n",
    "# indicating a \"roman\" (i.e., \"normal\") weight\n",
    "try:\n",
    "    del matplotlib.font_manager.weight_dict['roman']\n",
    "except KeyError:\n",
    "    pass\n",
    "matplotlib.font_manager._rebuild()"
   ]
  },
  {
   "cell_type": "code",
   "execution_count": 3,
   "metadata": {},
   "outputs": [],
   "source": [
    "# %load plot_label_defs.py\n",
    "# useful definitions for printing and plotting labels\n",
    "\n",
    "xtmstar = r\"$\\log \\: (M_{\\star} / M_{\\odot})$\"\n",
    "xtRe_kpc = r\"Galaxy half-light radius $R_{e}$ [kpc]\"\n",
    "xtfgas = r\"$\\log \\: (M_{\\rm HI} / M_{\\star})$\"\n",
    "xtHtype = r\"Hubble Type $T$\"\n",
    "ytbarsize_kpc = r\"Bar size $a_{\\rm vis}$ [kpc]\"\n",
    "ytresid = r\"Residuals: $\\log \\, (a_{\\rm vis}) - \\log \\, ({\\rm predicted})$\"\n",
    "ytresid_Re = r\"Residuals: $\\log \\, R_{e, {\\rm obs}} - \\log \\, ({\\rm predicted})$\"\n",
    "ytresid_h = r\"Residuals: $\\log \\, h - \\log \\, ({\\rm predicted})$\"\n"
   ]
  },
  {
   "cell_type": "markdown",
   "metadata": {},
   "source": [
    "### Define Subsamples via Indices Lists"
   ]
  },
  {
   "cell_type": "markdown",
   "metadata": {},
   "source": [
    "**Location of subsample definitions:** \n",
    "\n",
    "/Users/erwin/Documents/Working/Projects/Project_BarSizes/sample_defs.py"
   ]
  },
  {
   "cell_type": "code",
   "execution_count": 4,
   "metadata": {},
   "outputs": [],
   "source": [
    "from sample_defs import *"
   ]
  },
  {
   "cell_type": "markdown",
   "metadata": {},
   "source": [
    "For reference, here are the definitions:"
   ]
  },
  {
   "cell_type": "code",
   "execution_count": 5,
   "metadata": {},
   "outputs": [],
   "source": [
    "\n",
    "# general subsamples: all barred, all unbarred, all spirals\n",
    "# ii_barred = [i for i in range(nDisksTotal) if s4gdata.sma[i] > 0]\n",
    "# ii_unbarred = [i for i in range(nDisksTotal) if s4gdata.sma[i] <= 0]\n",
    "# ii_spirals = [i for i in range(nDisksTotal) if s4gdata.t_s4g[i] > -0.5]\n",
    "\n",
    "\n",
    "# Limited subsample 2: spirals with D < 30 Mpc -- 856 galaxies: 483 barred, 373 unbarred\n",
    "# ii_all_limited2 = [i for i in ii_spirals if s4gdata.dist[i] <= 30]\n",
    "# ii_barred_limited2 = [i for i in ii_all_limited2 if i in ii_barred]\n",
    "# ii_unbarred_limited2 = [i for i in ii_all_limited2 if i not in ii_barred]\n",
    "\n",
    "# Parent Spiral Sample: limited subsample 2 + logMstar = 9--11:\n",
    "# ii_all_limited2_m9to11 = [i for i in ii_all_limited2 if s4gdata.logmstar[i] >= 9 and s4gdata.logmstar[i] <= 11]\n",
    "# ii_barred_limited2_m9to11 = [i for i in ii_all_limited2_m9to11 if i in ii_barred]\n",
    "\n",
    "\n",
    "\n",
    "# Spirals with R_e *and* h\n",
    "# ii_all_Reh = [i for i in ii_spirals if s4gdata.Re_kpc[i] > 0 and s4gdata.h_kpc[i] > 0]\n",
    "# ii_barred_Reh = [i for i in ii_all_Reh if i in ii_barred]\n",
    "# ii_unbarred_Reh = [i for i in ii_all_Reh if i not in ii_barred]\n",
    "\n",
    "\n",
    "# Main Spiral Sample: Spirals with D < 30 Mpc, valid R_e *and* h, *and* logMstar = 9--11:\n",
    "# ii_all_Reh_m9to11 = [i for i in ii_spirals if s4gdata.logmstar[i] >= 9 and s4gdata.logmstar[i] <= 11 and s4gdata.Re_kpc[i] > 0 and s4gdata.h_kpc[i] > 0]\n",
    "# ii_barred_Reh_m9to11 = [i for i in ii_all_Reh_m9to11 if i in ii_barred]\n",
    "# ii_unbarred_Reh_m9to11 = [i for i in ii_all_Reh_m9to11 if i not in ii_barred]\n",
    "\n",
    "# ii_all_limited2_Reh = [i for i in ii_all_Reh if s4gdata.dist[i] <= 30]\n",
    "# ii_barred_limited2_Reh = [i for i in ii_all_limited2_Reh if i in ii_barred]\n",
    "# ii_unbarred_limited2_Reh = [i for i in ii_all_limited2_Reh if i not in ii_barred]\n",
    "\n",
    "# ii_all_lim2m9to11_Reh = [i for i in ii_all_limited2_Reh if s4gdata.logmstar[i] >= 9 and s4gdata.logmstar[i] <= 11]\n",
    "# ii_barred_lim2m9to11_Reh = [i for i in ii_all_lim2m9to11_Reh if i in ii_barred]\n",
    "# ii_unbarred_lim2m9to11_Reh = [i for i in ii_all_lim2m9to11_Reh if i not in ii_barred]\n",
    "\n",
    "# useful aliases which are more directly descriptive\n",
    "# ii_all_D30 = ii_all_limited2\n",
    "# ii_all_D30_m9to11 = ii_all_limited2_m9to11\n",
    "# ii_barred_D30_m9to11 = ii_barred_limited2_m9to11\n",
    "# ii_barred_D30_m9to11_Reh = ii_barred_lim2m9to11_Reh"
   ]
  },
  {
   "cell_type": "markdown",
   "metadata": {},
   "source": [
    "### Define Data Vectors for Subsamples"
   ]
  },
  {
   "cell_type": "code",
   "execution_count": 6,
   "metadata": {},
   "outputs": [
    {
     "name": "stderr",
     "output_type": "stream",
     "text": [
      "/Library/Frameworks/Python.framework/Versions/3.7/lib/python3.7/site-packages/ipykernel_launcher.py:6: RuntimeWarning: divide by zero encountered in log10\n",
      "  \n",
      "/Library/Frameworks/Python.framework/Versions/3.7/lib/python3.7/site-packages/ipykernel_launcher.py:7: RuntimeWarning: divide by zero encountered in log10\n",
      "  import sys\n",
      "/Library/Frameworks/Python.framework/Versions/3.7/lib/python3.7/site-packages/ipykernel_launcher.py:14: RuntimeWarning: divide by zero encountered in log10\n",
      "  \n"
     ]
    }
   ],
   "source": [
    "logmstar2 = s4gdata.logmstar[ii_barred_limited2_m9to11]\n",
    "logmstar2_Reh = s4gdata.logmstar[ii_barred_lim2m9to11_Reh]\n",
    "logfgas2_Reh = s4gdata.logfgas[ii_barred_lim2m9to11_Reh]\n",
    "\n",
    "# R_e and h\n",
    "logRe_all = np.log10(s4gdata.Re_kpc)\n",
    "logh_all = np.log10(s4gdata.h_kpc)\n",
    "\n",
    "logRe2_Reh = np.log10(s4gdata.Re_kpc[ii_barred_lim2m9to11_Reh])\n",
    "logh2_Reh = np.log10(s4gdata.h_kpc[ii_barred_lim2m9to11_Reh])\n",
    "\n",
    "# deprojected bar sizes for same subsamples [note that unbarred galaxies will end up with -inf for\n",
    "# the log of their bar size]\n",
    "logbarsize_dp2_all = np.log10(s4gdata.sma_dp_kpc2)\n",
    "logbarsize_dp2 = np.log10(s4gdata.sma_dp_kpc2[ii_barred_limited2_m9to11])\n",
    "logbarsize_dp2_Reh = np.log10(s4gdata.sma_dp_kpc2[ii_barred_lim2m9to11_Reh])\n",
    "\n",
    "nData2 = len(logmstar2)\n",
    "nData2_Reh = len(logmstar2_Reh)\n",
    "\n",
    "# constant 10% errors for bar sizes\n",
    "logbarsize_dp2_all_errs10 = np.zeros(nDisksTotal) + 0.044\n",
    "logbarsize_dp2_errs10 = np.zeros(nData2) + 0.044\n",
    "logbarsize_dp2_Reh_errs10 = np.zeros(nData2_Reh) + 0.044\n"
   ]
  },
  {
   "cell_type": "markdown",
   "metadata": {},
   "source": [
    "#### Spearman Correlation Coefficients"
   ]
  },
  {
   "cell_type": "code",
   "execution_count": 7,
   "metadata": {},
   "outputs": [
    {
     "data": {
      "text/plain": [
       "(0.5642579835735413, 3.0702429310743564e-32)"
      ]
     },
     "execution_count": 7,
     "metadata": {},
     "output_type": "execute_result"
    }
   ],
   "source": [
    "astrostat.spearmanr(logRe_all[ii_barred_lim2m9to11_Reh], logbarsize_dp2_all[ii_barred_lim2m9to11_Reh])"
   ]
  },
  {
   "cell_type": "code",
   "execution_count": 8,
   "metadata": {},
   "outputs": [
    {
     "data": {
      "text/plain": [
       "(0.6125412943459034, 3.575040425796504e-39)"
      ]
     },
     "execution_count": 8,
     "metadata": {},
     "output_type": "execute_result"
    }
   ],
   "source": [
    "astrostat.spearmanr(logh_all[ii_barred_lim2m9to11_Reh], logbarsize_dp2_all[ii_barred_lim2m9to11_Reh])"
   ]
  },
  {
   "cell_type": "code",
   "execution_count": 9,
   "metadata": {},
   "outputs": [
    {
     "data": {
      "text/plain": [
       "(-0.17641910775081038, 0.0006866883775508268)"
      ]
     },
     "execution_count": 9,
     "metadata": {},
     "output_type": "execute_result"
    }
   ],
   "source": [
    "astrostat.spearmanr(s4gdata.t_leda[ii_barred_lim2m9to11_Reh], logbarsize_dp2_all[ii_barred_lim2m9to11_Reh])"
   ]
  },
  {
   "cell_type": "markdown",
   "metadata": {},
   "source": [
    "### Define Functions for Fitting (+ log-likelihood)"
   ]
  },
  {
   "cell_type": "code",
   "execution_count": 11,
   "metadata": {},
   "outputs": [],
   "source": [
    "# Define additional functions for plots (mainly for sanity-checking)\n",
    "\n",
    "def PlotFit( x, y, ii, x_model, modelFunc, params, ms_data=6 ):\n",
    "    plot(x[ii], y[ii], 'o', color='0.5', ms=ms_data)\n",
    "    y_model = modelFunc(x_model, *params)\n",
    "    plot(x_model, y_model, 'r', lw=2)\n"
   ]
  },
  {
   "cell_type": "markdown",
   "metadata": {},
   "source": [
    "### Define Functions for MSE from Bootstrap Validation"
   ]
  },
  {
   "cell_type": "code",
   "execution_count": 14,
   "metadata": {},
   "outputs": [],
   "source": [
    "# wrappers for functions from above, in form needed by astrostat.bootstrap_validation\n",
    "\n",
    "def nicelin( x, p ):\n",
    "    return fitting_barsizes.flin(x, *p)\n",
    "\n",
    "def dofit_lin( x, y, p0, errs ):\n",
    "    pp,pcov = curve_fit(fitting_barsizes.flin, x, y, p0=p0, sigma=errs)\n",
    "    return pp\n",
    "\n",
    "def nicebrokenlin( x, p ):\n",
    "    return fitting_barsizes.fbrokenlin(x, *p)\n",
    "\n",
    "def dofit_brokenlin( x, y, p0, errs ):\n",
    "    pp,pcov = curve_fit(fitting_barsizes.fbrokenlin, x, y, p0=p0, sigma=errs)\n",
    "    return pp\n",
    "\n",
    "\n",
    "def nicecomposite( x, p ):\n",
    "    return fitting_barsizes.fmulti_lin_brokenlin(x, *p)\n",
    "\n",
    "def dofit_composite( x, y, p0, errs ):\n",
    "    pp,pcov = curve_fit(fitting_barsizes.fmulti_lin_brokenlin, x, y, p0=p0, sigma=errs)\n",
    "    return pp\n",
    "\n",
    "\n",
    "def nicecomposite_binary( x, p ):\n",
    "    return fitting_barsizes.fmulti_binary(x, *p)\n",
    "\n",
    "def dofit_composite_binary( x, y, p0, errs ):\n",
    "    pp,pcov = curve_fit(fitting_barsizes.fmulti_binary, x, y, p0=p0, sigma=errs)\n",
    "    return pp\n"
   ]
  },
  {
   "cell_type": "markdown",
   "metadata": {},
   "source": [
    "## Fits: Subsample 2 (Barsize vs logMstar)"
   ]
  },
  {
   "cell_type": "markdown",
   "metadata": {},
   "source": [
    "### Barsize vs logMstar: Linear and Broken-linear"
   ]
  },
  {
   "cell_type": "code",
   "execution_count": 31,
   "metadata": {},
   "outputs": [
    {
     "name": "stdout",
     "output_type": "stream",
     "text": [
      "Linear fit: barsize vs logMstar:\n",
      "   alpha, beta = [-1.84873, 0.219618]\n",
      "   AIC = 8519.97\n",
      "[-1.84873352  0.21961791]\n",
      "training MSE = 0.0449233\n",
      "test MSE = 0.0454237 (1000 successful iterations)\n",
      "Adjusted test MSE = 0.0452395\n",
      "\n",
      "Broken-linear fit: barsize vs logMstar:\n",
      "alpha1, beta1, alpha2, beta2, x_break = \n",
      "[-0.417, 0.069, -5.377, 0.559, 10.109]\n",
      "   AIC = 7870.11\n",
      "[-0.41718187  0.06879514 10.10900102  0.55938316]\n",
      "training MSE = 0.0414736\n",
      "test MSE = 0.0426852 (1000 successful iterations)\n",
      "Adjusted test MSE = 0.0422394\n",
      "\n",
      "Delta_AIC = -649.858\n",
      "\n",
      "Broken-linear fit: barsize vs logMstar (Parent Spiral Sample):\n",
      "alpha1, beta1, alpha2, beta2, x_break = \n",
      "[-0.657, 0.095, -5.700, 0.591, 10.162]\n",
      "   AIC = 8560.73\n",
      "[-0.65703145  0.09510115 10.16199937  0.59132854]\n",
      "training MSE = 0.0427852\n",
      "test MSE = 0.0441197 (1000 successful iterations)\n",
      "Adjusted test MSE = 0.0436286\n"
     ]
    }
   ],
   "source": [
    "p0_lin = [-2, 0.3]\n",
    "p0_brokenlin = [-0.7, 0.1, 10.1, 0.6]\n",
    "\n",
    "xx,yy = s4gdata.logmstar, logbarsize_dp2_all\n",
    "errs = logbarsize_dp2_all_errs10\n",
    "iii = ii_barred_D30_m9to11_Reh\n",
    "iii_parent = ii_barred_D30_m9to11\n",
    "\n",
    "print(\"Linear fit: barsize vs logMstar:\")\n",
    "x = fitting_barsizes.DoFit(xx,yy, errs, iii, p0_lin)\n",
    "pp_mstar_lin10,aic_mstar_lin10 = x\n",
    "mse = astrostat.bootstrap_validation(xx[iii], yy[iii], 1000, dofit_lin, computeModelFn=nicelin, initialParams=pp_mstar_lin10, errs=errs[iii], verbose=True)\n",
    "fitDict['barsize-vs-Mstar_lin'] = [pp_mstar_lin10,aic_mstar_lin10,mse]\n",
    "fitDict['barsize-vs-Mstar_lin_confint'] = fitting_barsizes.ParameterUncertainties(xx, yy, errs, iii, pp_mstar_lin10, nIterations=2000) \n",
    "\n",
    "print(\"\\nBroken-linear fit: barsize vs logMstar:\")\n",
    "x = fitting_barsizes.DoFit(xx,yy, errs, iii, p0_brokenlin, \"broken-linear\")\n",
    "pp_mstar_brokenlin10,aic_mstar_brokenlinlin10 = x\n",
    "mse = astrostat.bootstrap_validation(xx[iii], yy[iii], 1000, dofit_brokenlin, computeModelFn=nicebrokenlin, initialParams=pp_mstar_brokenlin10, errs=errs[iii], verbose=True)\n",
    "fitDict['barsize-vs-Mstar_brokenlin'] = [pp_mstar_brokenlin10,aic_mstar_brokenlinlin10,mse]\n",
    "fitDict['barsize-vs-Mstar_brokenlin_confint'] = fitting_barsizes.ParameterUncertainties(xx, yy, errs, iii, pp_mstar_brokenlin10, nIterations=2000, mode=\"broken-linear\") \n",
    "\n",
    "print(\"\\nDelta_AIC = %g\" % (aic_mstar_brokenlinlin10 - aic_mstar_lin10))\n",
    "\n",
    "# parent sample barsize-vs-Mstar_parent_brokenlin\n",
    "print(\"\\nBroken-linear fit: barsize vs logMstar (Parent Spiral Sample):\")\n",
    "x = fitting_barsizes.DoFit(xx,yy, errs, iii_parent, p0_brokenlin, \"broken-linear\")\n",
    "pp_mstar_parent_brokenlin10,aic_mstar_parent_brokenlinlin10 = x\n",
    "mse = astrostat.bootstrap_validation(xx[iii_parent], yy[iii_parent], 1000, dofit_brokenlin, computeModelFn=nicebrokenlin, initialParams=pp_mstar_parent_brokenlin10, errs=errs[iii_parent], verbose=True)\n",
    "fitDict['barsize-vs-Mstar_parent_brokenlin'] = [pp_mstar_parent_brokenlin10,aic_mstar_parent_brokenlinlin10,mse]\n",
    "fitDict['barsize-vs-Mstar_parent_brokenlin_confint'] = fitting_barsizes.ParameterUncertainties(xx, yy, errs, iii_parent, pp_mstar_parent_brokenlin10, nIterations=2000, mode=\"broken-linear\") \n"
   ]
  },
  {
   "cell_type": "markdown",
   "metadata": {},
   "source": [
    "#### Test Plot"
   ]
  },
  {
   "cell_type": "code",
   "execution_count": 16,
   "metadata": {},
   "outputs": [
    {
     "data": {
      "text/plain": [
       "(9.0, 11.0)"
      ]
     },
     "execution_count": 16,
     "metadata": {},
     "output_type": "execute_result"
    },
    {
     "data": {
      "image/png": "[encoded data removed]",
      "text/plain": [
       "<Figure size 576x432 with 1 Axes>"
      ]
     },
     "metadata": {
      "needs_background": "light"
     },
     "output_type": "display_data"
    }
   ],
   "source": [
    "#PlotFit( x, y, x_model, modelFunc, params ):\n",
    "mm = np.arange(8.5,11.5,0.2)\n",
    "PlotFit(xx, yy, ii_barred_limited2_m9to11, mm, fbrokenlin, pp_mstar_brokenlin10)\n",
    "plot(mm, flin(mm, *pp_mstar_lin10), 'b--')\n",
    "xlim(9.0,11.0)"
   ]
  },
  {
   "cell_type": "markdown",
   "metadata": {},
   "source": [
    "## Fits: Subsample 2_Reh"
   ]
  },
  {
   "cell_type": "markdown",
   "metadata": {},
   "source": [
    "### Barsize vs logMstar (Linear and Broken-linear)"
   ]
  },
  {
   "cell_type": "code",
   "execution_count": 18,
   "metadata": {},
   "outputs": [
    {
     "name": "stdout",
     "output_type": "stream",
     "text": [
      "Linear fit: barsize vs logMstar:\n",
      "   alpha, beta = [-1.84873, 0.219618]\n",
      "   AIC = 8519.97\n",
      "[-1.84873352  0.21961791]\n",
      "training MSE = 0.0449233\n",
      "test MSE = 0.0456236 (1000 successful iterations)\n",
      "Adjusted test MSE = 0.0453659\n",
      "\n",
      "Broken-linear fit: barsize vs logMstar:\n",
      "alpha1, beta1, alpha2, beta2, x_break = \n",
      "[-0.417, 0.069, -5.377, 0.559, 10.109]\n",
      "   AIC = 7870.11\n",
      "[-0.41718187  0.06879514 10.10900102  0.55938316]\n",
      "training MSE = 0.0414736\n",
      "test MSE = 0.0428408 (1000 successful iterations)\n",
      "Adjusted test MSE = 0.0423377\n",
      "\n",
      "Delta_AIC = -649.858\n"
     ]
    }
   ],
   "source": [
    "p0_lin = [-2, 0.3]\n",
    "p0_brokenlin = [-0.7, 0.1, 10.1, 0.6]\n",
    "\n",
    "xx,yy = s4gdata.logmstar, logbarsize_dp2_all\n",
    "errs = logbarsize_dp2_all_errs10\n",
    "iii = ii_barred_lim2m9to11_Reh\n",
    "\n",
    "print(\"Linear fit: barsize vs logMstar:\")\n",
    "x = fitting_barsizes.DoFit(xx,yy, errs, iii, p0_lin)\n",
    "pp_mstar_Reh_lin10,aic_mstar_Reh_lin10 = x\n",
    "mse = astrostat.bootstrap_validation(xx[iii], yy[iii], 1000, dofit_lin, computeModelFn=nicelin, initialParams=pp_mstar_Reh_lin10, errs=errs[iii], verbose=True)\n",
    "fitDict['barsize-vs-Mstar_lin_Reh'] = [pp_mstar_Reh_lin10,aic_mstar_Reh_lin10,mse]\n",
    "fitDict['barsize-vs-Mstar_lin_Reh_confint'] = fitting_barsizes.ParameterUncertainties(xx, yy, errs, iii, pp_mstar_Reh_lin10, nIterations=2000) \n",
    "\n",
    "print(\"\\nBroken-linear fit: barsize vs logMstar:\")\n",
    "x = fitting_barsizes.DoFit(xx,yy, errs, iii, p0_brokenlin, \"broken-linear\")\n",
    "pp_mstar_Reh_brokenlin10,aic_mstar_Reh_brokenlinlin10 = x\n",
    "mse = astrostat.bootstrap_validation(xx[iii], yy[iii], 1000, dofit_brokenlin, computeModelFn=nicebrokenlin, initialParams=pp_mstar_Reh_brokenlin10, errs=errs[iii], verbose=True)\n",
    "fitDict['barsize-vs-Mstar_brokenlin_Reh'] = [pp_mstar_Reh_brokenlin10,aic_mstar_Reh_brokenlinlin10,mse]\n",
    "fitDict['barsize-vs-Mstar_brokenlin_Reh_confint'] = fitting_barsizes.ParameterUncertainties(xx, yy, errs, iii, pp_mstar_Reh_brokenlin10, nIterations=2000, mode=\"broken-linear\") \n",
    "\n",
    "print(\"\\nDelta_AIC = %g\" % (aic_mstar_Reh_brokenlinlin10 - aic_mstar_Reh_lin10))"
   ]
  },
  {
   "cell_type": "markdown",
   "metadata": {},
   "source": [
    "### Barsize vs log R_e, vs log h, and vs log(f_gas) (Linear)"
   ]
  },
  {
   "cell_type": "code",
   "execution_count": 19,
   "metadata": {},
   "outputs": [
    {
     "name": "stdout",
     "output_type": "stream",
     "text": [
      "Linear fit: barsize vs log(R_e):\n",
      "   alpha, beta = [0.032746, 0.451161]\n",
      "   AIC = 7328.84\n",
      "[0.03274596 0.45116062]\n",
      "training MSE = 0.0386399\n",
      "test MSE = 0.0400003 (1000 successful iterations)\n",
      "Adjusted test MSE = 0.0394996\n",
      "\n",
      "Linear fit: barsize vs log(h):\n",
      "   alpha, beta = [0.0377121, 0.758302]\n",
      "   AIC = 6242.24\n",
      "[0.03771213 0.75830204]\n",
      "training MSE = 0.0329078\n",
      "test MSE = 0.0337354 (1000 successful iterations)\n",
      "Adjusted test MSE = 0.0334308\n",
      "\n",
      "Linear fit: barsize vs log(f_gas):\n",
      "   alpha, beta = [0.305877, -2.26877e-05]\n",
      "   AIC = 10794.1\n",
      "[ 3.05876540e-01 -2.26876803e-05]\n",
      "training MSE = 0.0569198\n",
      "test MSE = 0.0707442 (1000 successful iterations)\n",
      "Adjusted test MSE = 0.0656568\n"
     ]
    }
   ],
   "source": [
    "p0_lin = [0.5, 0.2]\n",
    "errs = logbarsize_dp2_all_errs10\n",
    "iii = ii_barred_lim2m9to11_Reh\n",
    "\n",
    "\n",
    "xx,yy = logRe_all, logbarsize_dp2_all\n",
    "print(\"Linear fit: barsize vs log(R_e):\")\n",
    "x = fitting_barsizes.DoFit(xx,yy, errs, iii, p0_lin)\n",
    "pp_Re_lin10,aic_Re_lin10 = x\n",
    "mse = astrostat.bootstrap_validation(xx[iii], yy[iii], 1000, dofit_lin, computeModelFn=nicelin, initialParams=pp_Re_lin10, errs=errs[iii], verbose=True)\n",
    "fitDict['barsize-vs-Re_lin_Reh'] = [pp_Re_lin10,aic_Re_lin10,mse]\n",
    "fitDict['barsize-vs-Re_lin_Reh_confint'] = fitting_barsizes.ParameterUncertainties(xx, yy, errs, iii, pp_Re_lin10, nIterations=2000) \n",
    "\n",
    "xx,yy = logh_all, logbarsize_dp2_all\n",
    "print(\"\\nLinear fit: barsize vs log(h):\")\n",
    "x = fitting_barsizes.DoFit(xx,yy, errs, iii, p0_lin)\n",
    "pp_h_lin10,aic_h_lin10 = x\n",
    "mse = astrostat.bootstrap_validation(xx[iii], yy[iii], 1000, dofit_lin, computeModelFn=nicelin, initialParams=pp_h_lin10, errs=errs[iii], verbose=True)\n",
    "fitDict['barsize-vs-h_lin_Reh'] = [pp_h_lin10,aic_h_lin10,mse]\n",
    "fitDict['barsize-vs-h_lin_Reh_confint'] = fitting_barsizes.ParameterUncertainties(xx, yy, errs, iii, pp_h_lin10, nIterations=2000) \n",
    "\n",
    "xx,yy = s4gdata.logfgas, logbarsize_dp2_all\n",
    "print(\"\\nLinear fit: barsize vs log(f_gas):\")\n",
    "x = fitting_barsizes.DoFit(xx,yy, errs, iii, p0_lin)\n",
    "pp_fgas_lin10,aic_fgas_lin10 = x\n",
    "mse = astrostat.bootstrap_validation(xx[iii], yy[iii], 1000, dofit_lin, computeModelFn=nicelin, initialParams=pp_fgas_lin10, errs=errs[iii], verbose=True)\n",
    "fitDict['barsize-vs-fgas_lin_Reh'] = [pp_fgas_lin10,aic_fgas_lin10,mse]\n",
    "fitDict['barsize-vs-fgas_lin_Reh_confint'] = fitting_barsizes.ParameterUncertainties(xx, yy, errs, iii, pp_fgas_lin10, nIterations=2000) \n"
   ]
  },
  {
   "cell_type": "markdown",
   "metadata": {},
   "source": [
    "### Barsize vs broken-linear logMstar + log R_e or broken-linear logMstar + log h"
   ]
  },
  {
   "cell_type": "code",
   "execution_count": 20,
   "metadata": {},
   "outputs": [
    {
     "name": "stdout",
     "output_type": "stream",
     "text": [
      "Composite fit: barsize vs log(R_e) + logMstar(broken-linear):\n",
      "alpha, beta, alpha1, beta1, alpha2, beta2, x_break = \n",
      "[212.073, 0.341, -212.365, 0.037, -216.089, 0.404, 10.131]\n",
      "   AIC = 6202.88\n",
      "[ 2.12072971e+02  3.40687267e-01 -2.12365415e+02  3.65321069e-02\n",
      "  1.01310195e+01  4.04114609e-01]\n",
      "training MSE = 0.0327468\n"
     ]
    },
    {
     "name": "stderr",
     "output_type": "stream",
     "text": [
      "/Library/Frameworks/Python.framework/Versions/3.7/lib/python3.7/site-packages/scipy/optimize/minpack.py:787: OptimizeWarning: Covariance of the parameters could not be estimated\n",
      "  category=OptimizeWarning)\n"
     ]
    },
    {
     "name": "stdout",
     "output_type": "stream",
     "text": [
      "test MSE = 0.0343126 (1000 successful iterations)\n",
      "Adjusted test MSE = 0.0337364\n",
      "\n",
      "Composite fit: barsize vs log(h) + logMstar(broken-linear):\n",
      "alpha, beta, alpha1, beta1, alpha2, beta2, x_break = \n",
      "[633.431, 0.612, -633.416, 0.004, -636.882, 0.347, 10.131]\n",
      "   AIC = 5583.73\n",
      "[ 6.33430822e+02  6.12252143e-01 -6.33415530e+02  4.35536431e-03\n",
      "  1.01309591e+01  3.46559992e-01]\n",
      "training MSE = 0.0294806\n",
      "test MSE = 0.0306794 (1000 successful iterations)\n",
      "Adjusted test MSE = 0.0302382\n"
     ]
    }
   ],
   "source": [
    "reload(fitting_barsizes)\n",
    "p02 = [0, 0.5, 0, 0.0, 10.0, 0.5]\n",
    "errs = logbarsize_dp2_all_errs10\n",
    "iii = ii_barred_lim2m9to11_Reh\n",
    "\n",
    "xx,yy = [logRe_all,s4gdata.logmstar], logbarsize_dp2_all\n",
    "print(\"Composite fit: barsize vs log(R_e) + logMstar(broken-linear):\")\n",
    "x = fitting_barsizes.DoFit(xx,yy, errs, iii, p02, \"composite\")\n",
    "pp_ReMstar_lin10,aic_ReMstar_lin10 = x\n",
    "xx_composite = [logRe_all[iii],s4gdata.logmstar[iii]]\n",
    "mse = astrostat.bootstrap_validation(xx_composite, yy[iii], 1000, dofit_composite, computeModelFn=nicecomposite, initialParams=p02, errs=errs[iii], verbose=True)\n",
    "fitDict['barsize-vs-Re+Mstar_Reh'] = [pp_ReMstar_lin10,aic_ReMstar_lin10,mse]\n",
    "fitDict['barsize-vs-Re+Mstar_Reh_confint'] = fitting_barsizes.ParameterUncertainties(xx, yy, errs, iii, pp_ReMstar_lin10, nIterations=2000, mode=\"composite\") \n",
    "\n",
    "xx,yy = [logh_all,s4gdata.logmstar], logbarsize_dp2_all\n",
    "print(\"\\nComposite fit: barsize vs log(h) + logMstar(broken-linear):\")\n",
    "x = fitting_barsizes.DoFit(xx,yy, errs, iii, p02, \"composite\")\n",
    "pp_hMstar_lin10,aic_hMstar_lin10 = x\n",
    "xx_composite = [logh_all[iii],s4gdata.logmstar[iii]]\n",
    "mse = astrostat.bootstrap_validation(xx_composite, yy[iii], 1000, dofit_composite, computeModelFn=nicecomposite, initialParams=p02, errs=errs[iii], verbose=True)\n",
    "fitDict['barsize-vs-h+Mstar_Reh'] = [pp_hMstar_lin10,aic_hMstar_lin10,mse]\n",
    "fitDict['barsize-vs-h+Mstar_Reh_confint'] = fitting_barsizes.ParameterUncertainties(xx, yy, errs, iii, pp_hMstar_lin10, nIterations=2000, mode=\"composite\") \n"
   ]
  },
  {
   "cell_type": "markdown",
   "metadata": {},
   "source": [
    "## Galaxy Scaling Relations"
   ]
  },
  {
   "cell_type": "markdown",
   "metadata": {},
   "source": [
    "###  log R_e or log h vs logMstar (broken-linear fits) -- both barred & unbarred galaxies"
   ]
  },
  {
   "cell_type": "code",
   "execution_count": 21,
   "metadata": {},
   "outputs": [
    {
     "name": "stdout",
     "output_type": "stream",
     "text": [
      "Broken-linear fit: log(R_e) vs logMstar:\n",
      "alpha1, beta1, alpha2, beta2, x_break = \n",
      "[-0.102, 0.063, -3.310, 0.382, 10.080]\n",
      "   AIC = 22930.8\n",
      "[-0.10247019  0.06330685 10.07967232  0.38151751]\n",
      "training MSE = 0.0754734\n",
      "test MSE = 0.076738 (999 successful iterations)\n",
      "Adjusted test MSE = 0.0762726\n",
      "\tParameterUncertainties: 2 failed iterations\n",
      "\n",
      "Broken-linear fit: log(h) vs logMstar:\n",
      "alpha1, beta1, alpha2, beta2, x_break = \n",
      "[-0.255, 0.056, -3.781, 0.405, 10.093]\n",
      "   AIC = 10038.8\n",
      "[-0.38619553  0.06964081 10.09500627  0.39348708]\n",
      "training MSE = 0.0330259\n",
      "test MSE = 0.0337266 (1000 successful iterations)\n",
      "Adjusted test MSE = 0.0334688\n"
     ]
    }
   ],
   "source": [
    "p0_brokenlin = [-0.7, 0.1, 10.1, 0.6]\n",
    "errs = logbarsize_dp2_all_errs10\n",
    "iii = ii_all_lim2m9to11_Reh\n",
    "\n",
    "xx,yy = s4gdata.logmstar, logRe_all\n",
    "print(\"Broken-linear fit: log(R_e) vs logMstar:\")\n",
    "x = fitting_barsizes.DoFit(xx,yy, errs, iii, p0_brokenlin, \"broken-linear\")\n",
    "pp_Re_vs_Mstar_brokenlin10,aic_Re_vs_Mstar_brokenlin10 = x\n",
    "mse = astrostat.bootstrap_validation(xx[iii], yy[iii], 1000, dofit_brokenlin, computeModelFn=nicebrokenlin, initialParams=pp_Re_vs_Mstar_brokenlin10, errs=errs[iii], verbose=True)\n",
    "fitDict['Re-vs-Mstar_Reh'] = [pp_Re_vs_Mstar_brokenlin10,aic_Re_vs_Mstar_brokenlin10,mse]\n",
    "fitDict['Re-vs-Mstar_Reh_confint'] = fitting_barsizes.ParameterUncertainties(xx, yy, errs, iii, pp_Re_vs_Mstar_brokenlin10, nIterations=2000, mode=\"broken-linear\") \n",
    "\n",
    "xx,yy = s4gdata.logmstar, logh_all\n",
    "print(\"\\nBroken-linear fit: log(h) vs logMstar:\")\n",
    "x = fitting_barsizes.DoFit(xx,yy, errs, iii, p0_brokenlin, \"broken-linear\")\n",
    "pp_h_vs_Mstar_brokenlin10,aic_h_vs_Mstar_brokenlin10 = x\n",
    "mse = astrostat.bootstrap_validation(xx[iii], yy[iii], 1000, dofit_brokenlin, computeModelFn=nicebrokenlin, initialParams=pp_Re_vs_Mstar_brokenlin10, errs=errs[iii], verbose=True)\n",
    "fitDict['h-vs-Mstar_Reh'] = [pp_h_vs_Mstar_brokenlin10,aic_h_vs_Mstar_brokenlin10,mse]\n",
    "fitDict['h-vs-Mstar_Reh_confint'] = fitting_barsizes.ParameterUncertainties(xx, yy, errs, iii, pp_h_vs_Mstar_brokenlin10, nIterations=2000, mode=\"broken-linear\") \n"
   ]
  },
  {
   "cell_type": "markdown",
   "metadata": {},
   "source": [
    "### Galaxy Scaling Relations with Bars: log Re or log h vs logMstar(broken-linear) + bar presence/size -- both barred & unbarred galaxies"
   ]
  },
  {
   "cell_type": "code",
   "execution_count": 22,
   "metadata": {},
   "outputs": [],
   "source": [
    "# Fix it so unbarred galaxies have log(barsize) = -100, not -inf\n",
    "# (since curve_fit will throw an exception if any data values are non-finite).\n",
    "\n",
    "logbarsize_safe_all = []\n",
    "for i in range(nDisksTotal):\n",
    "    if np.isfinite(logbarsize_dp2_all[i]):\n",
    "        newval = logbarsize_dp2_all[i]\n",
    "    else:\n",
    "        newval = -100.0\n",
    "    logbarsize_safe_all.append(newval)\n",
    "logbarsize_safe_all = np.array(logbarsize_safe_all)"
   ]
  },
  {
   "cell_type": "code",
   "execution_count": 23,
   "metadata": {},
   "outputs": [
    {
     "name": "stdout",
     "output_type": "stream",
     "text": [
      "log(R_e) vs logMstar with bar term:\n",
      "alpha, beta, alpha1, beta1, alpha2, beta2, x_break = \n",
      "[-0.043, 0.575, 0.308, 0.013, -2.174, 0.262, 10.002]\n",
      "   AIC = 18426.2\n",
      "[-0.04282246  0.57520644  0.30819522  0.01334406 10.00207811  0.26151412]\n",
      "training MSE = 0.0606843\n",
      "test MSE = 0.062227 (1000 successful iterations)\n",
      "Adjusted test MSE = 0.0616593\n",
      "\tParameterUncertainties: 4 failed iterations\n",
      "\n",
      "log(h) vs logMstar with bar term:\n",
      "alpha, beta, alpha1, beta1, alpha2, beta2, x_break = \n",
      "[-0.066, 0.400, -0.123, 0.040, -2.885, 0.314, 10.092]\n",
      "   AIC = 8258.18\n",
      "[-0.06565938  0.3997317  -0.12314514  0.03994668 10.09210443  0.31357492]\n",
      "training MSE = 0.027206\n",
      "test MSE = 0.0279918 (1000 successful iterations)\n",
      "Adjusted test MSE = 0.0277026\n"
     ]
    }
   ],
   "source": [
    "p03 = [0, 0.5, 0, 0.0, 10.0, 0.5]\n",
    "errs = logbarsize_dp2_all_errs10\n",
    "iii = ii_all_lim2m9to11_Reh\n",
    "\n",
    "xx,yy = [logbarsize_safe_all, s4gdata.logmstar], logRe_all\n",
    "print(\"log(R_e) vs logMstar with bar term:\")\n",
    "x = fitting_barsizes.DoFit(xx,yy, errs, iii, p03, mode=\"binary\")\n",
    "pp_Re_vs_MstarBar_brokenlin10,aic_Re_vs_MstarBar_brokenlin10 = x\n",
    "xx_composite = [logbarsize_safe_all[iii],s4gdata.logmstar[iii]]\n",
    "mse = astrostat.bootstrap_validation(xx_composite, yy[iii], 1000, dofit_composite_binary, computeModelFn=nicecomposite_binary, initialParams=p03, errs=errs[iii], verbose=True)\n",
    "fitDict['Re-vs-Mstar+bar_Reh'] = [pp_Re_vs_MstarBar_brokenlin10,aic_Re_vs_MstarBar_brokenlin10,mse]\n",
    "fitDict['Re-vs-Mstar+bar_Reh_confint'] = fitting_barsizes.ParameterUncertainties(xx, yy, errs, iii, pp_Re_vs_MstarBar_brokenlin10, nIterations=2000, mode=\"binary\") \n",
    "\n",
    "xx,yy = [logbarsize_safe_all, s4gdata.logmstar], logh_all\n",
    "print(\"\\nlog(h) vs logMstar with bar term:\")\n",
    "x = fitting_barsizes.DoFit(xx,yy, errs, iii, p03, mode=\"binary\")\n",
    "pp_h_vs_MstarBar_brokenlin10,aic_h_vs_MstarBar_brokenlin10 = x\n",
    "xx_composite = [logbarsize_safe_all[iii],s4gdata.logmstar[iii]]\n",
    "mse = astrostat.bootstrap_validation(xx_composite, yy[iii], 1000, dofit_composite_binary, computeModelFn=nicecomposite_binary, initialParams=p03, errs=errs[iii], verbose=True)\n",
    "fitDict['h-vs-Mstar+bar_Reh'] = [pp_h_vs_MstarBar_brokenlin10,aic_h_vs_MstarBar_brokenlin10,mse]\n",
    "fitDict['h-vs-Mstar+bar_Reh_confint'] = fitting_barsizes.ParameterUncertainties(xx, yy, errs, iii, pp_h_vs_MstarBar_brokenlin10, nIterations=2000, mode=\"binary\") \n"
   ]
  },
  {
   "cell_type": "markdown",
   "metadata": {},
   "source": [
    "## Save Best-Fit Parameter values, AIC, MSE"
   ]
  },
  {
   "cell_type": "code",
   "execution_count": 35,
   "metadata": {},
   "outputs": [],
   "source": [
    "dictKeys = list(fitDict.keys())\n",
    "param_names = [k for k in dictKeys if k.find(\"_confint\") < 0]\n",
    "param_limit_names = [k for k in dictKeys if k.find(\"_confint\") > 0]"
   ]
  },
  {
   "cell_type": "markdown",
   "metadata": {},
   "source": [
    "### Save best-fit parameter values to file"
   ]
  },
  {
   "cell_type": "code",
   "execution_count": 36,
   "metadata": {},
   "outputs": [],
   "source": [
    "def WriteParams( outf, name, p_vector ):\n",
    "    txt = \"%s: \" % name\n",
    "    nPts = len(p_vector)\n",
    "    for i in range(nPts):\n",
    "        txt += \"\\t%.4f\" % p_vector[i]\n",
    "    outf.write(txt + \"\\n\")\n"
   ]
  },
  {
   "cell_type": "code",
   "execution_count": 37,
   "metadata": {},
   "outputs": [],
   "source": [
    "ts = '{:%Y-%b-%d %H:%M:%S}'.format(datetime.datetime.now())\n",
    "bestfitParamsFile = projDir + \"bestfit_parameters.txt\"\n",
    "outf = open(bestfitParamsFile, 'w')\n",
    "outf.write(\"# Best-fit parameters for S4G barsize analysis: %s\\n\" % ts)\n",
    "outf.write(\"# Name of fit, followed by best-fit parameter values\\n\")\n",
    "for name in param_names:\n",
    "    params, aic, mse = fitDict[name]\n",
    "    WriteParams(outf, name, params)\n",
    "outf.close()"
   ]
  },
  {
   "cell_type": "markdown",
   "metadata": {},
   "source": [
    "### Save AIC and MSE to file"
   ]
  },
  {
   "cell_type": "code",
   "execution_count": 38,
   "metadata": {},
   "outputs": [],
   "source": [
    "outf = open(projDir + \"bestfit_aic_etc.txt\", 'w')\n",
    "outf.write(\"# AIC and MSE_pred for best-fit parameters for S4G barsize analysis: %s\\n\" % ts)\n",
    "outf.write(\"# [see %s for parameter values]\\n\" % bestfitParamsFile)\n",
    "outf.write(\"# Name of fit, best-fit AIC, MSE_pred\\n\")\n",
    "for name in param_names:\n",
    "    params, aic, mse = fitDict[name]\n",
    "    txt = \"%s:\\t\\t%.1f\\t%.4f\\n\" % (name, aic, mse)\n",
    "    outf.write(txt)\n",
    "outf.close()"
   ]
  },
  {
   "cell_type": "markdown",
   "metadata": {},
   "source": [
    "### Save parameter uncertainties to file"
   ]
  },
  {
   "cell_type": "code",
   "execution_count": 39,
   "metadata": {},
   "outputs": [],
   "source": [
    "outf = open(projDir + \"bestfit_parameter_uncertainties.txt\", 'w')\n",
    "outf.write(\"# Uncertainties for best-fit parameters for S4G barsize analysis: %s\\n\" % ts)\n",
    "outf.write(\"# [see %s for parameter values]\\n\" % bestfitParamsFile)\n",
    "outf.write(\"# Name of fit, parameter uncertainties\\n\")\n",
    "for name in param_limit_names:\n",
    "    paramLimits = fitDict[name]\n",
    "    nParams = len(paramLimits)\n",
    "    txt = \"%s:   \" % name\n",
    "    for i in range(nParams - 1):\n",
    "        txt += \"(%.4f,%.4f), \" % paramLimits[i]\n",
    "    txt += \"(%.4f,%.4f)\\n\" % paramLimits[-1]\n",
    "    outf.write(txt)\n",
    "outf.close()"
   ]
  },
  {
   "cell_type": "code",
   "execution_count": null,
   "metadata": {},
   "outputs": [],
   "source": []
  }
 ],
 "metadata": {
  "kernelspec": {
   "display_name": "Python 3",
   "language": "python",
   "name": "python3"
  },
  "language_info": {
   "codemirror_mode": {
    "name": "ipython",
    "version": 3
   },
   "file_extension": ".py",
   "mimetype": "text/x-python",
   "name": "python",
   "nbconvert_exporter": "python",
   "pygments_lexer": "ipython3",
   "version": "3.7.2"
  },
  "toc": {
   "colors": {
    "hover_highlight": "#DAA520",
    "running_highlight": "#FF0000",
    "selected_highlight": "#FFD700"
   },
   "moveMenuLeft": true,
   "nav_menu": {
    "height": "387px",
    "width": "252px"
   },
   "navigate_menu": true,
   "number_sections": true,
   "sideBar": true,
   "threshold": "3",
   "toc_cell": false,
   "toc_position": {
    "height": "770px",
    "left": "0px",
    "right": "1071px",
    "top": "134px",
    "width": "301px"
   },
   "toc_section_display": "block",
   "toc_window_display": true
  }
 },
 "nbformat": 4,
 "nbformat_minor": 2
}
